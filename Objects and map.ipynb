{
 "cells": [
  {
   "cell_type": "markdown",
   "metadata": {},
   "source": [
    "**Create Class**"
   ]
  },
  {
   "cell_type": "code",
   "execution_count": 4,
   "metadata": {},
   "outputs": [],
   "source": [
    "class Person:\n",
    "    def set_first_name(self, value):\n",
    "        self.first_name = value\n",
    "    def set_last_name(self, value):\n",
    "        self.last_name = value\n",
    "    def full_name(self):\n",
    "        return \"{}, {}\".format(self.last_name, self.first_name) "
   ]
  },
  {
   "cell_type": "code",
   "execution_count": 5,
   "metadata": {},
   "outputs": [
    {
     "name": "stdout",
     "output_type": "stream",
     "text": [
      "Vovko, Vova\n"
     ]
    }
   ],
   "source": [
    "person = Person()\n",
    "person.set_first_name('Vova')\n",
    "person.set_last_name('Vovko')\n",
    "print(person.full_name())"
   ]
  },
  {
   "cell_type": "markdown",
   "metadata": {},
   "source": [
    "**Map (result is calculated after access)**"
   ]
  },
  {
   "cell_type": "code",
   "execution_count": 13,
   "metadata": {},
   "outputs": [
    {
     "data": {
      "text/plain": [
       "([1, 2, 3, 100, 101, 102], [3, 2, 1, 100, 101, 102])"
      ]
     },
     "execution_count": 13,
     "metadata": {},
     "output_type": "execute_result"
    }
   ],
   "source": [
    "fich1 = [1, 2, 3, 100, 101, 102]\n",
    "fich2 = [3, 2, 1, 100, 101, 102]\n",
    "\n",
    "fich1, fich2"
   ]
  },
  {
   "cell_type": "code",
   "execution_count": 14,
   "metadata": {},
   "outputs": [
    {
     "name": "stdout",
     "output_type": "stream",
     "text": [
      "1\n",
      "2\n",
      "1\n",
      "100\n",
      "101\n",
      "102\n"
     ]
    }
   ],
   "source": [
    "min_fich = map(min, fich1, fich2)\n",
    "\n",
    "for item in min_fich:\n",
    "    print(item)"
   ]
  },
  {
   "cell_type": "code",
   "execution_count": 15,
   "metadata": {},
   "outputs": [
    {
     "name": "stdout",
     "output_type": "stream",
     "text": [
      "3\n",
      "2\n",
      "3\n",
      "100\n",
      "101\n",
      "102\n"
     ]
    }
   ],
   "source": [
    "min_fich = map(lambda x,y: max(x, y), fich1, fich2)\n",
    "\n",
    "for item in min_fich:\n",
    "    print(item)"
   ]
  },
  {
   "cell_type": "code",
   "execution_count": null,
   "metadata": {},
   "outputs": [],
   "source": []
  }
 ],
 "metadata": {
  "kernelspec": {
   "display_name": "Python 3",
   "language": "python",
   "name": "python3"
  },
  "language_info": {
   "codemirror_mode": {
    "name": "ipython",
    "version": 3
   },
   "file_extension": ".py",
   "mimetype": "text/x-python",
   "name": "python",
   "nbconvert_exporter": "python",
   "pygments_lexer": "ipython3",
   "version": "3.7.1"
  }
 },
 "nbformat": 4,
 "nbformat_minor": 2
}
